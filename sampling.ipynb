{
 "cells": [
  {
   "cell_type": "code",
   "execution_count": 1,
   "metadata": {},
   "outputs": [],
   "source": [
    "import torch\n",
    "from torchvision.transforms.functional import to_pil_image\n",
    "from src.model import RefineNet\n",
    "from src.score_matching import linear_noise_scale\n",
    "\n",
    "\n",
    "device = torch.device('cuda:1')\n",
    "noise_steps = 10\n",
    "\n",
    "model = RefineNet(\n",
    "    in_channels=1,\n",
    "    hidden_channels=(64, 128, 256, 512),\n",
    "    n_noise_scale=noise_steps\n",
    ").to(device)\n",
    "\n",
    "model.load_state_dict(torch.load('ckpts/refinenet_mnist.pth'))\n",
    "noise_scales = linear_noise_scale(start=1., end=0.01, length=10).to(device)"
   ]
  },
  {
   "cell_type": "code",
   "execution_count": 11,
   "metadata": {},
   "outputs": [
    {
     "name": "stderr",
     "output_type": "stream",
     "text": [
      "100%|██████████| 200/200 [00:09<00:00, 20.25it/s]\n",
      "100%|██████████| 200/200 [00:09<00:00, 20.37it/s]\n",
      "100%|██████████| 200/200 [00:09<00:00, 20.38it/s]\n",
      "100%|██████████| 200/200 [00:09<00:00, 20.40it/s]\n",
      "100%|██████████| 200/200 [00:09<00:00, 20.24it/s]\n",
      "100%|██████████| 200/200 [00:09<00:00, 20.36it/s]\n",
      "100%|██████████| 200/200 [00:09<00:00, 20.29it/s]\n",
      "100%|██████████| 200/200 [00:09<00:00, 20.35it/s]\n",
      "100%|██████████| 200/200 [00:09<00:00, 20.30it/s]\n",
      "100%|██████████| 200/200 [00:09<00:00, 20.24it/s]\n",
      "100%|██████████| 10/10 [01:38<00:00,  9.85s/it]\n"
     ]
    }
   ],
   "source": [
    "from src.langevin_dynamics import sample\n",
    "\n",
    "\n",
    "samples = sample(model, (8, 1, 28, 28), noise_scales, device, n_steps=200, eps=1e-5)"
   ]
  },
  {
   "cell_type": "code",
   "execution_count": 17,
   "metadata": {},
   "outputs": [
    {
     "data": {
      "image/png": "[encoded data removed]",
      "text/plain": [
       "<PIL.Image.Image image mode=L size=28x28>"
      ]
     },
     "execution_count": 17,
     "metadata": {},
     "output_type": "execute_result"
    }
   ],
   "source": [
    "samples = torch.clamp(samples, 0., 1.)\n",
    "to_pil_image(samples[2])"
   ]
  },
  {
   "cell_type": "code",
   "execution_count": null,
   "metadata": {},
   "outputs": [],
   "source": []
  }
 ],
 "metadata": {
  "kernelspec": {
   "display_name": "pytorch20",
   "language": "python",
   "name": "python3"
  },
  "language_info": {
   "codemirror_mode": {
    "name": "ipython",
    "version": 3
   },
   "file_extension": ".py",
   "mimetype": "text/x-python",
   "name": "python",
   "nbconvert_exporter": "python",
   "pygments_lexer": "ipython3",
   "version": "3.10.10"
  },
  "orig_nbformat": 4
 },
 "nbformat": 4,
 "nbformat_minor": 2
}
