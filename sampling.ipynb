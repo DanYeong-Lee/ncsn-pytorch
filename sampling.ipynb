{
 "cells": [
  {
   "cell_type": "code",
   "execution_count": 2,
   "metadata": {},
   "outputs": [
    {
     "name": "stderr",
     "output_type": "stream",
     "text": [
      "100%|██████████| 10/10 [01:01<00:00,  6.17s/it]\n"
     ]
    }
   ],
   "source": [
    "import torch\n",
    "from torchvision.transforms.functional import to_pil_image\n",
    "from src.model import RefineNet\n",
    "from src.score_matching import linear_noise_scale\n",
    "from src.langevin_dynamics import sample\n",
    "\n",
    "\n",
    "device = torch.device('cuda:1')\n",
    "noise_steps = 10\n",
    "\n",
    "model = RefineNet(\n",
    "    in_channels=1,\n",
    "    hidden_channels=(128, 256, 512, 1024),\n",
    "    n_noise_scale=noise_steps\n",
    ").to(device)\n",
    "\n",
    "model.load_state_dict(torch.load('ckpts/refinenet_mnist.pth'))\n",
    "noise_scales = linear_noise_scale(start=1., end=0.01, length=10).to(device)\n",
    "samples = sample(model, (8, 1, 28, 28), noise_scales, device)"
   ]
  },
  {
   "cell_type": "code",
   "execution_count": 9,
   "metadata": {},
   "outputs": [
    {
     "data": {
      "image/png": "[encoded data removed]",
      "text/plain": [
       "<PIL.Image.Image image mode=L size=28x28>"
      ]
     },
     "execution_count": 9,
     "metadata": {},
     "output_type": "execute_result"
    }
   ],
   "source": [
    "samples = torch.clamp(samples, 0., 1.)\n",
    "to_pil_image(samples[4])"
   ]
  },
  {
   "cell_type": "code",
   "execution_count": null,
   "metadata": {},
   "outputs": [],
   "source": []
  }
 ],
 "metadata": {
  "kernelspec": {
   "display_name": "pytorch20",
   "language": "python",
   "name": "pytorch20"
  },
  "language_info": {
   "codemirror_mode": {
    "name": "ipython",
    "version": 3
   },
   "file_extension": ".py",
   "mimetype": "text/x-python",
   "name": "python",
   "nbconvert_exporter": "python",
   "pygments_lexer": "ipython3",
   "version": "3.10.10"
  }
 },
 "nbformat": 4,
 "nbformat_minor": 4
}
