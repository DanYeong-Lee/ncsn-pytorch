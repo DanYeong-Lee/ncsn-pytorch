{
 "cells": [
  {
   "cell_type": "code",
   "execution_count": 1,
   "metadata": {},
   "outputs": [],
   "source": [
    "from torchvision.datasets import CelebA, MNIST\n",
    "from torchvision import transforms\n",
    "from torchvision.transforms.functional import to_pil_image\n",
    "from torch.utils.data import DataLoader\n",
    "\n",
    "\n",
    "'''train_dataset = CelebA(root='../../data', split='train', download=True,\n",
    "                          transform=transforms.Compose([\n",
    "                                transforms.CenterCrop(140),\n",
    "                                transforms.Resize(32),\n",
    "                                transforms.ToTensor()\n",
    "                            ]))'''\n",
    "\n",
    "train_dataset = MNIST(root='../../data', train=True, download=True, transform=transforms.ToTensor())"
   ]
  },
  {
   "cell_type": "code",
   "execution_count": 2,
   "metadata": {},
   "outputs": [
    {
     "name": "stdout",
     "output_type": "stream",
     "text": [
      "Epoch 0\n"
     ]
    },
    {
     "name": "stderr",
     "output_type": "stream",
     "text": [
      " 40%|███▉      | 186/468 [01:09<01:45,  2.68it/s]\n"
     ]
    },
    {
     "ename": "KeyboardInterrupt",
     "evalue": "",
     "output_type": "error",
     "traceback": [
      "\u001b[0;31m---------------------------------------------------------------------------\u001b[0m",
      "\u001b[0;31mKeyboardInterrupt\u001b[0m                         Traceback (most recent call last)",
      "Cell \u001b[0;32mIn[2], line 29\u001b[0m\n\u001b[1;32m     27\u001b[0m x \u001b[39m=\u001b[39m x\u001b[39m.\u001b[39mto(device)\n\u001b[1;32m     28\u001b[0m loss \u001b[39m=\u001b[39m score_matching_loss(model, x, noise_scales)\n\u001b[0;32m---> 29\u001b[0m loss\u001b[39m.\u001b[39;49mbackward()\n\u001b[1;32m     30\u001b[0m optimizer\u001b[39m.\u001b[39mstep()\n\u001b[1;32m     31\u001b[0m epoch_loss \u001b[39m+\u001b[39m\u001b[39m=\u001b[39m loss\u001b[39m.\u001b[39mitem()\n",
      "File \u001b[0;32m/data/project/danyoung/miniconda3/envs/pytorch20/lib/python3.10/site-packages/torch/_tensor.py:487\u001b[0m, in \u001b[0;36mTensor.backward\u001b[0;34m(self, gradient, retain_graph, create_graph, inputs)\u001b[0m\n\u001b[1;32m    477\u001b[0m \u001b[39mif\u001b[39;00m has_torch_function_unary(\u001b[39mself\u001b[39m):\n\u001b[1;32m    478\u001b[0m     \u001b[39mreturn\u001b[39;00m handle_torch_function(\n\u001b[1;32m    479\u001b[0m         Tensor\u001b[39m.\u001b[39mbackward,\n\u001b[1;32m    480\u001b[0m         (\u001b[39mself\u001b[39m,),\n\u001b[0;32m   (...)\u001b[0m\n\u001b[1;32m    485\u001b[0m         inputs\u001b[39m=\u001b[39minputs,\n\u001b[1;32m    486\u001b[0m     )\n\u001b[0;32m--> 487\u001b[0m torch\u001b[39m.\u001b[39;49mautograd\u001b[39m.\u001b[39;49mbackward(\n\u001b[1;32m    488\u001b[0m     \u001b[39mself\u001b[39;49m, gradient, retain_graph, create_graph, inputs\u001b[39m=\u001b[39;49minputs\n\u001b[1;32m    489\u001b[0m )\n",
      "File \u001b[0;32m/data/project/danyoung/miniconda3/envs/pytorch20/lib/python3.10/site-packages/torch/autograd/__init__.py:200\u001b[0m, in \u001b[0;36mbackward\u001b[0;34m(tensors, grad_tensors, retain_graph, create_graph, grad_variables, inputs)\u001b[0m\n\u001b[1;32m    195\u001b[0m     retain_graph \u001b[39m=\u001b[39m create_graph\n\u001b[1;32m    197\u001b[0m \u001b[39m# The reason we repeat same the comment below is that\u001b[39;00m\n\u001b[1;32m    198\u001b[0m \u001b[39m# some Python versions print out the first line of a multi-line function\u001b[39;00m\n\u001b[1;32m    199\u001b[0m \u001b[39m# calls in the traceback and some print out the last line\u001b[39;00m\n\u001b[0;32m--> 200\u001b[0m Variable\u001b[39m.\u001b[39;49m_execution_engine\u001b[39m.\u001b[39;49mrun_backward(  \u001b[39m# Calls into the C++ engine to run the backward pass\u001b[39;49;00m\n\u001b[1;32m    201\u001b[0m     tensors, grad_tensors_, retain_graph, create_graph, inputs,\n\u001b[1;32m    202\u001b[0m     allow_unreachable\u001b[39m=\u001b[39;49m\u001b[39mTrue\u001b[39;49;00m, accumulate_grad\u001b[39m=\u001b[39;49m\u001b[39mTrue\u001b[39;49;00m)\n",
      "\u001b[0;31mKeyboardInterrupt\u001b[0m: "
     ]
    }
   ],
   "source": [
    "from tqdm import tqdm\n",
    "import torch\n",
    "import torch.nn as nn\n",
    "from src.model import RefineNet\n",
    "from src.score_matching import linear_noise_scale, score_matching_loss\n",
    "\n",
    "bsz = 128\n",
    "device = torch.device('cuda:1')\n",
    "noise_steps = 10\n",
    "\n",
    "train_dataloader = DataLoader(train_dataset, batch_size=bsz, shuffle=True, num_workers=8, drop_last=True)\n",
    "model = RefineNet(\n",
    "    in_channels=1,\n",
    "    hidden_channels=(64, 128, 256, 512),\n",
    "    n_noise_scale=noise_steps\n",
    ").to(device)\n",
    "criterion = nn.MSELoss()\n",
    "optimizer = torch.optim.Adam(model.parameters(), lr=1e-3)\n",
    "noise_scales = linear_noise_scale(start=1., end=0.01, length=10).to(device)\n",
    "\n",
    "\n",
    "for epoch in range(50):\n",
    "    print(f'Epoch {epoch}')\n",
    "    epoch_loss = 0.\n",
    "    for i, (x, _) in enumerate(tqdm(train_dataloader)):\n",
    "        optimizer.zero_grad()\n",
    "        x = x.to(device)\n",
    "        loss = score_matching_loss(model, x, noise_scales)\n",
    "        loss.backward()\n",
    "        optimizer.step()\n",
    "        epoch_loss += loss.item()\n",
    "    print(f'Epoch loss: {epoch_loss / len(train_dataloader)}')\n",
    "torch.save(model.state_dict(), 'ckpts/refinenet_mnist.pth')"
   ]
  },
  {
   "cell_type": "code",
   "execution_count": 2,
   "metadata": {},
   "outputs": [],
   "source": [
    "import torch\n",
    "from src.model import RefineNet\n",
    "from src.score_matching import linear_noise_scale\n",
    "\n",
    "\n",
    "device = torch.device('cuda:1')\n",
    "noise_steps = 10\n",
    "\n",
    "model = RefineNet(\n",
    "    in_channels=1,\n",
    "    hidden_channels=(64, 128, 256, 512),\n",
    "    n_noise_scale=noise_steps\n",
    ").to(device)\n",
    "\n",
    "model.load_state_dict(torch.load('ckpts/refinenet_mnist.pth'))\n",
    "noise_scales = linear_noise_scale(start=1., end=0.01, length=10).to(device)"
   ]
  },
  {
   "cell_type": "code",
   "execution_count": 3,
   "metadata": {},
   "outputs": [
    {
     "name": "stderr",
     "output_type": "stream",
     "text": [
      "100%|██████████| 100/100 [00:10<00:00,  9.57it/s]\n",
      "100%|██████████| 100/100 [00:04<00:00, 21.39it/s]\n",
      "100%|██████████| 100/100 [00:04<00:00, 21.63it/s]\n",
      "100%|██████████| 100/100 [00:04<00:00, 21.02it/s]\n",
      "100%|██████████| 100/100 [00:04<00:00, 21.06it/s]\n",
      "100%|██████████| 100/100 [00:04<00:00, 21.28it/s]\n",
      "100%|██████████| 100/100 [00:04<00:00, 21.40it/s]\n",
      "100%|██████████| 100/100 [00:04<00:00, 21.48it/s]\n",
      "100%|██████████| 100/100 [00:05<00:00, 19.94it/s]\n",
      "100%|██████████| 100/100 [00:04<00:00, 20.57it/s]\n",
      "100%|██████████| 10/10 [00:53<00:00,  5.32s/it]\n"
     ]
    }
   ],
   "source": [
    "from src.langevin_dynamics import sample\n",
    "\n",
    "\n",
    "samples = sample(model, (8, 1, 28, 28), noise_scales, device)"
   ]
  },
  {
   "cell_type": "code",
   "execution_count": 19,
   "metadata": {},
   "outputs": [
    {
     "data": {
      "image/png": "[encoded data removed]",
      "text/plain": [
       "<PIL.Image.Image image mode=L size=28x28>"
      ]
     },
     "execution_count": 19,
     "metadata": {},
     "output_type": "execute_result"
    }
   ],
   "source": [
    "samples = torch.clamp(samples, 0., 1.)\n",
    "to_pil_image(samples[4])"
   ]
  }
 ],
 "metadata": {
  "kernelspec": {
   "display_name": "pytorch20",
   "language": "python",
   "name": "python3"
  },
  "language_info": {
   "codemirror_mode": {
    "name": "ipython",
    "version": 3
   },
   "file_extension": ".py",
   "mimetype": "text/x-python",
   "name": "python",
   "nbconvert_exporter": "python",
   "pygments_lexer": "ipython3",
   "version": "3.10.10"
  },
  "orig_nbformat": 4
 },
 "nbformat": 4,
 "nbformat_minor": 2
}
